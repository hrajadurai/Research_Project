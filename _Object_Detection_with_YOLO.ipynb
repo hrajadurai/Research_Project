{
 "cells": [
  {
   "cell_type": "markdown",
   "metadata": {
    "id": "KVMTPn5-GmbA"
   },
   "source": [
    "# Object Detection with YOLO\n",
    "- YOLO is short for You Only Look Once.\n",
    "- It is a family of single-stage deep learning-based object detectors.\n",
    "- They are capable of more than real-time object detection with state-of-the-art accuracy."
   ]
  },
  {
   "cell_type": "markdown",
   "metadata": {
    "id": "Epr2lBRrd19k"
   },
   "source": [
    "## Steps to  be followed:\n",
    "\n",
    "1. Import the necessary libraries\n",
    "2. Define the hyperparameter values\n",
    "3. Define a helper function to download files\n",
    "4. Pull the data from Roboflow\n",
    "5. Clone the **YOLOv5** repository\n",
    "6. Create a directory to store results\n",
    "7. Run the model\n",
    "8. Define a function to show validation predictions saved during training\n",
    "9. Define a helper function for inference on images\n",
    "10. Visualize inference images\n",
    "\n",
    "\n",
    "\n",
    "\n"
   ]
  },
  {
   "cell_type": "markdown",
   "metadata": {
    "id": "-VcqkxnxHrHD"
   },
   "source": [
    "### Step 1: Import the necessary libraries\n",
    "- Import the **os** module for operating system-related functionalities.\n",
    "- Import the **glob** module for file path pattern matching.\n",
    "- Import the **matplotlib.pyplot** module for plotting.\n",
    "- Import the **OpenCV** module for image processing.\n",
    "- Import the **requests** module for making HTTP requests.\n"
   ]
  },
  {
   "cell_type": "code",
   "execution_count": 1,
   "metadata": {
    "id": "VKR3rGJoa-H7"
   },
   "outputs": [],
   "source": [
    "import os\n",
    "import glob as glob\n",
    "import matplotlib.pyplot as plt\n",
    "import cv2\n",
    "import requests\n"
   ]
  },
  {
   "cell_type": "markdown",
   "metadata": {
    "id": "Vq0COFzOIcOf"
   },
   "source": [
    "### Step 2: Define the hyperparameter values\n",
    "- Define the number of epochs to train."
   ]
  },
  {
   "cell_type": "code",
   "execution_count": 2,
   "metadata": {
    "id": "iagY3DkfbASa"
   },
   "outputs": [],
   "source": [
    "TRAIN = True\n",
    "EPOCHS = 5"
   ]
  },
  {
   "cell_type": "markdown",
   "metadata": {
    "id": "hHpBJBoyjGy2"
   },
   "source": [
    "__Observations:__\n",
    "\n",
    "The code specifies that the training will be conducted over a total of 5 epochs."
   ]
  },
  {
   "cell_type": "markdown",
   "metadata": {
    "id": "XWE3o4JmIrLi"
   },
   "source": [
    "### Step 3: Define a helper function to download files\n",
    "- Download a file from the provided URL and save it with the specified name.\n",
    "- Send an HTTP GET request to the URL to download the file.\n",
    "- Write the content of the response to a file using the specified name.\n",
    "- If the file already exists, display a message indicating that the download has been skipped.\n"
   ]
  },
  {
   "cell_type": "code",
   "execution_count": 3,
   "metadata": {
    "id": "NkKvWGMUbIvu"
   },
   "outputs": [],
   "source": [
    "def download_file(url, save_name):\n",
    "    if not os.path.exists(save_name):\n",
    "        file = requests.get(url)\n",
    "        open(save_name, 'wb').write(file.content)\n",
    "    else:\n",
    "        print('File already present, skipping download...')\n"
   ]
  },
  {
   "cell_type": "markdown",
   "metadata": {
    "id": "QULXj2CVGmbK"
   },
   "source": [
    "### About the dataset:\n",
    "- The dataset comprises images depicting different vehicles in diverse traffic conditions. These images have been sourced from the Open Image dataset.\n",
    "- In total, the dataset consists of 5 classes, namely: Car, Bus, Motorcycle, Truck, and Ambulance."
   ]
  },
  {
   "cell_type": "markdown",
   "metadata": {
    "id": "8tAUoYfKJS-W"
   },
   "source": [
    "### Step 4: Pull the data from Roboflow\n",
    "\n",
    "-  If the **train** directory doesn't exist, download the dataset zip file from the specified URL using curl.\n",
    "- Unzip the downloaded file and remove the zip file after extraction.\n",
    "- Create a list of directory names: **train, valid, test**.\n",
    "- Iterate over each directory name and its corresponding index.\n",
    "- Get a sorted list of all image names in the current directory.\n",
    "- Iterate over each image name and its corresponding index.\n",
    "- If the index is even (i.e., every second image), extract the file name without the extension.\n",
    "- Remove the image file.\n",
    "- Remove the corresponding label file.\n"
   ]
  },
  {
   "cell_type": "code",
   "execution_count": 4,
   "metadata": {
    "id": "eZ-caJ4KbN-z"
   },
   "outputs": [
    {
     "name": "stderr",
     "output_type": "stream",
     "text": [
      "The system cannot find the path specified.\n"
     ]
    },
    {
     "ename": "FileNotFoundError",
     "evalue": "[WinError 3] The system cannot find the path specified: 'train/images/'",
     "output_type": "error",
     "traceback": [
      "\u001b[1;31m---------------------------------------------------------------------------\u001b[0m",
      "\u001b[1;31mFileNotFoundError\u001b[0m                         Traceback (most recent call last)",
      "Input \u001b[1;32mIn [4]\u001b[0m, in \u001b[0;36m<cell line: 1>\u001b[1;34m()\u001b[0m\n\u001b[0;32m      4\u001b[0m dirs \u001b[38;5;241m=\u001b[39m [\u001b[38;5;124m'\u001b[39m\u001b[38;5;124mtrain\u001b[39m\u001b[38;5;124m'\u001b[39m, \u001b[38;5;124m'\u001b[39m\u001b[38;5;124mvalid\u001b[39m\u001b[38;5;124m'\u001b[39m, \u001b[38;5;124m'\u001b[39m\u001b[38;5;124mtest\u001b[39m\u001b[38;5;124m'\u001b[39m]\n\u001b[0;32m      5\u001b[0m \u001b[38;5;28;01mfor\u001b[39;00m i, dir_name \u001b[38;5;129;01min\u001b[39;00m \u001b[38;5;28menumerate\u001b[39m(dirs):\n\u001b[1;32m----> 6\u001b[0m     all_image_names \u001b[38;5;241m=\u001b[39m \u001b[38;5;28msorted\u001b[39m(\u001b[43mos\u001b[49m\u001b[38;5;241;43m.\u001b[39;49m\u001b[43mlistdir\u001b[49m\u001b[43m(\u001b[49m\u001b[38;5;124;43mf\u001b[39;49m\u001b[38;5;124;43m\"\u001b[39;49m\u001b[38;5;132;43;01m{\u001b[39;49;00m\u001b[43mdir_name\u001b[49m\u001b[38;5;132;43;01m}\u001b[39;49;00m\u001b[38;5;124;43m/images/\u001b[39;49m\u001b[38;5;124;43m\"\u001b[39;49m\u001b[43m)\u001b[49m)\n\u001b[0;32m      7\u001b[0m     \u001b[38;5;28;01mfor\u001b[39;00m j, image_name \u001b[38;5;129;01min\u001b[39;00m \u001b[38;5;28menumerate\u001b[39m(all_image_names):\n\u001b[0;32m      8\u001b[0m         \u001b[38;5;28;01mif\u001b[39;00m (j \u001b[38;5;241m%\u001b[39m \u001b[38;5;241m2\u001b[39m) \u001b[38;5;241m==\u001b[39m \u001b[38;5;241m0\u001b[39m:\n",
      "\u001b[1;31mFileNotFoundError\u001b[0m: [WinError 3] The system cannot find the path specified: 'train/images/'"
     ]
    }
   ],
   "source": [
    "if not os.path.exists('train'):\n",
    "\n",
    "    !/usr/bin/curl -L \"https://public.roboflow.com/ds/xKLV14HbTF?key=aJzo7msVta\" > roboflow.zip; unzip roboflow.zip; rm roboflow.zip\n",
    "    dirs = ['train', 'valid', 'test']\n",
    "    for i, dir_name in enumerate(dirs):\n",
    "        all_image_names = sorted(os.listdir(f\"{dir_name}/images/\"))\n",
    "        for j, image_name in enumerate(all_image_names):\n",
    "            if (j % 2) == 0:\n",
    "                file_name = image_name.split('.jpg')[0]\n",
    "                os.remove(f\"{dir_name}/images/{image_name}\")\n",
    "                os.remove(f\"{dir_name}/labels/{file_name}.txt\")\n"
   ]
  },
  {
   "cell_type": "markdown",
   "metadata": {
    "id": "NKDHsJ-1rhMN"
   },
   "source": [
    "**Observations:**\n",
    "\n",
    "The code block downloads a dataset, extracts it, and selectively removes certain image and label files from the directories."
   ]
  },
  {
   "cell_type": "markdown",
   "metadata": {
    "id": "Qj09tX2NKlcf"
   },
   "source": [
    "### Step 5: Clone the YOLOv5 repository\n",
    "- If the **YOLOv5** directory does not exist, clone the **YOLOv5** repository from the provided GitHub URL.\n",
    "- Change the current working directory to **YOLOv5**.\n",
    "- Install the necessary Python packages listed in the **requirements.txt** file.\n"
   ]
  },
  {
   "cell_type": "code",
   "execution_count": null,
   "metadata": {
    "colab": {
     "base_uri": "https://localhost:8080/"
    },
    "executionInfo": {
     "elapsed": 6216,
     "status": "ok",
     "timestamp": 1716032129415,
     "user": {
      "displayName": "Vikas Singh",
      "userId": "04375885343580620832"
     },
     "user_tz": -330
    },
    "id": "JvZ3O5n3bWGM",
    "outputId": "ac138e48-cc96-4678-82d0-1f3db309445e"
   },
   "outputs": [],
   "source": [
    "if not os.path.exists('yolov5'):\n",
    "\n",
    "    !git clone https://github.com/ultralytics/yolov5.git\n",
    "\n",
    "%cd yolov5/\n",
    "\n",
    "!pip3 install -r requirements.txt\n"
   ]
  },
  {
   "cell_type": "markdown",
   "metadata": {
    "id": "OTR6vjg3r793"
   },
   "source": [
    "**Observations:**\n",
    "\n",
    "The code block checks for the presence of the **YOLOv5** project directory, clones it (if necessary), sets it as the current working directory, and installs the required dependencies."
   ]
  },
  {
   "cell_type": "markdown",
   "metadata": {
    "id": "WE5OQKTdLC8z"
   },
   "source": [
    "### Step 6: Create a directory to store results\n",
    "- Set the directory to store results based on the current number of result directories.\n",
    "- Count the number of result directories in the **runs/train** directory. If the **TRAIN** variable is **True** (assuming it's defined outside of this function), then set the result directory name with an incremented count.\n",
    "- Otherwise, set the result directory name without incrementing the count.\n",
    "- Return the name of the result directory.\n"
   ]
  },
  {
   "cell_type": "code",
   "execution_count": null,
   "metadata": {
    "id": "5POEGBnPd22Q"
   },
   "outputs": [],
   "source": [
    "def set_res_dir():\n",
    "    # Directory to store results\n",
    "    res_dir_count = len(glob.glob('runs/train/*'))\n",
    "    print(f\"Current number of result directories: {res_dir_count}\")\n",
    "    if TRAIN:\n",
    "        RES_DIR = f\"results_{res_dir_count+1}\"\n",
    "        print(RES_DIR)\n",
    "    else:\n",
    "        RES_DIR = f\"results_{res_dir_count}\"\n",
    "    return RES_DIR"
   ]
  },
  {
   "cell_type": "markdown",
   "metadata": {
    "id": "IUIT7bBoLKYu"
   },
   "source": [
    "### Step 7: Run the model\n",
    "- Set the **RES_DIR** variable by calling the **set_res_dir()** function.\n",
    "- If the **TRAIN** variable is **True**, execute the **train.py** script with the specified command-line arguments.\n"
   ]
  },
  {
   "cell_type": "code",
   "execution_count": null,
   "metadata": {
    "colab": {
     "base_uri": "https://localhost:8080/"
    },
    "executionInfo": {
     "elapsed": 135405,
     "status": "ok",
     "timestamp": 1716032264811,
     "user": {
      "displayName": "Vikas Singh",
      "userId": "04375885343580620832"
     },
     "user_tz": -330
    },
    "id": "cAV9ko5LboAl",
    "outputId": "a3148bcc-57d4-4133-bf91-d029e94fddf6"
   },
   "outputs": [],
   "source": [
    "RES_DIR = set_res_dir()\n",
    "if TRAIN:\n",
    "    # VOC: python3\n",
    "    !python3 train.py --data ../data.yaml --weights yolov5s.pt \\\n",
    "    --img 640 --epochs {EPOCHS} --batch-size 16 --name {RES_DIR}\n",
    "\n"
   ]
  },
  {
   "cell_type": "markdown",
   "metadata": {
    "id": "TIaa1FYdtG7Z"
   },
   "source": [
    "**Observations:**\n",
    "\n",
    "The code sets a results directory using **set_res_dir()**. If **TRAIN** is **True**, it executes a **YOLOv5** training command with specific arguments, saving the results in the results directory."
   ]
  },
  {
   "cell_type": "markdown",
   "metadata": {
    "id": "J_Nzmc3OMgZO"
   },
   "source": [
    "### Step 8: Define a function to show validation predictions saved during training\n",
    "- List the contents of the **runs/train/{RES_DIR}** directory.\n",
    "- Set the **EXP_PATH** variable as the path to the result directory.\n",
    "- Get a list of paths to predicted images in the result directory.\n",
    "- Print the list of predicted image paths.\n",
    "- Iterate over each predicted image path.\n",
    "- Read the image using **OpenCV**.\n",
    "- Create a figure with a specific size.\n",
    "- Display the image (converting BGR to RGB) and turn off the axes.\n",
    "- Show the image.\n"
   ]
  },
  {
   "cell_type": "code",
   "execution_count": null,
   "metadata": {
    "id": "QbFfwx9Vbuwp"
   },
   "outputs": [],
   "source": [
    "def show_valid_results(RES_DIR):\n",
    "    !ls runs/train/{RES_DIR}\n",
    "    EXP_PATH = f\"runs/train/{RES_DIR}\"\n",
    "    validation_pred_images = glob.glob(f\"{EXP_PATH}/*_pred.jpg\")\n",
    "    print(validation_pred_images)\n",
    "    for pred_image in validation_pred_images:\n",
    "        image = cv2.imread(pred_image)\n",
    "        plt.figure(figsize=(19, 16))\n",
    "        plt.imshow(image[:, :, ::-1])\n",
    "        plt.axis('off')\n",
    "        plt.show()"
   ]
  },
  {
   "cell_type": "markdown",
   "metadata": {
    "id": "NpPou7ufNK6W"
   },
   "source": [
    "### Step 9: Define a helper function for inference on images\n",
    "- Perform inference on images using the specified result directory.\n",
    "- Create a directory to store inference results.\n",
    "- Count the number of inference-detection directories.\n",
    "- Set the inference-detection directory name with an incremented count.\n",
    "- Execute the **detect.py** script with the specified command-line arguments.\n",
    "- Return the name of the inference detection directory.\n"
   ]
  },
  {
   "cell_type": "code",
   "execution_count": null,
   "metadata": {
    "id": "D5LSNzgYfPK9"
   },
   "outputs": [],
   "source": [
    "def inference(RES_DIR, data_path):\n",
    "\n",
    "    infer_dir_count = len(glob.glob('runs/detect/*'))\n",
    "    print(f\"Current number of inference detection directories: {infer_dir_count}\")\n",
    "    INFER_DIR = f\"inference_{infer_dir_count+1}\"\n",
    "    print(INFER_DIR)\n",
    "\n",
    "    !python3 detect.py --weights runs/train/{RES_DIR}/weights/best.pt \\\n",
    "    --source {data_path} --name {INFER_DIR}\n",
    "    return INFER_DIR"
   ]
  },
  {
   "cell_type": "markdown",
   "metadata": {
    "id": "1bG1x155N0VP"
   },
   "source": [
    "### Step 10: Visualize inference images\n",
    "- Perform inference on images using the specified result directory.\n",
    "- Create a directory to store inference results.\n",
    "- Count the number of inference-detection directories.\n",
    "- Set the inference detection directory name with an incremented count.\n",
    "- Execute the **detect.py** script with the specified command-line arguments and return the name of the inference detection directory.\n",
    "\n"
   ]
  },
  {
   "cell_type": "code",
   "execution_count": null,
   "metadata": {
    "id": "ZbbSdZzIfU3o"
   },
   "outputs": [],
   "source": [
    "def visualize(INFER_DIR):\n",
    "\n",
    "    INFER_PATH = f\"runs/detect/{INFER_DIR}\"\n",
    "    infer_images = glob.glob(f\"{INFER_PATH}/*.jpg\")\n",
    "    print(infer_images)\n",
    "    for pred_image in infer_images:\n",
    "        image = cv2.imread(pred_image)\n",
    "        plt.figure(figsize=(19, 16))\n",
    "        plt.imshow(image[:, :, ::-1])\n",
    "        plt.axis('off')\n",
    "        plt.show()"
   ]
  },
  {
   "cell_type": "code",
   "execution_count": null,
   "metadata": {
    "colab": {
     "background_save": true,
     "base_uri": "https://localhost:8080/",
     "height": 1000,
     "output_embedded_package_id": "1BMEWbVQC5u0IizLeyF9BJBBWuJkIPxqR"
    },
    "executionInfo": {
     "elapsed": 68786,
     "status": "ok",
     "timestamp": 1716032333573,
     "user": {
      "displayName": "Vikas Singh",
      "userId": "04375885343580620832"
     },
     "user_tz": -330
    },
    "id": "ifypsTODfa6J",
    "outputId": "5197264e-2223-4439-a866-52ad416141c7"
   },
   "outputs": [],
   "source": [
    "show_valid_results(RES_DIR)"
   ]
  },
  {
   "cell_type": "markdown",
   "metadata": {
    "id": "qbW2IrATtc3p"
   },
   "source": [
    "**Observations:**\n",
    "\n",
    "The code defines a function that retrieves inference images from a specified directory. It loads and visualizes each image using OpenCV and Matplotlib, respectively, and displays them."
   ]
  },
  {
   "cell_type": "markdown",
   "metadata": {
    "id": "kMFHAaASOZZI"
   },
   "source": [
    "#### Download the inference data file\n",
    "- If the **inference_images** directory doesn't exist, extract the contents of the **inference_data.zip** file.\n",
    "- Else, print a message indicating that the dataset is already present.\n"
   ]
  },
  {
   "cell_type": "code",
   "execution_count": null,
   "metadata": {
    "colab": {
     "background_save": true
    },
    "id": "69h3MRNIfeT3"
   },
   "outputs": [],
   "source": [
    "download_file('https://learnopencv.s3.us-west-2.amazonaws.com/yolov5_inference_data.zip',\n",
    "              'inference_data.zip')\n",
    "if not os.path.exists('inference_images'):\n",
    "    !unzip -q \"inference_data.zip\"\n",
    "else:\n",
    "    print('Dataset already present')"
   ]
  },
  {
   "cell_type": "markdown",
   "metadata": {
    "id": "TjyOP7kaO9Wz"
   },
   "source": [
    "#### Inference on images\n",
    "- Call the **inference** function with the arguments **RES_DIR** and **inference_images**.\n",
    "- Assign the output to the variable **IMAGE_INFER_DIR**.\n"
   ]
  },
  {
   "cell_type": "code",
   "execution_count": null,
   "metadata": {
    "colab": {
     "background_save": true,
     "base_uri": "https://localhost:8080/"
    },
    "executionInfo": {
     "elapsed": 39,
     "status": "ok",
     "timestamp": 1716032333573,
     "user": {
      "displayName": "Vikas Singh",
      "userId": "04375885343580620832"
     },
     "user_tz": -330
    },
    "id": "aUhFthwdfnH3",
    "outputId": "b8012db2-b3eb-4402-a13a-9e4265f16a01"
   },
   "outputs": [],
   "source": [
    "IMAGE_INFER_DIR = inference(RES_DIR, 'inference_images')"
   ]
  },
  {
   "cell_type": "markdown",
   "metadata": {
    "id": "s-W4ixiiPiFE"
   },
   "source": [
    "#### Visualizing the inference results\n",
    "- Invoke the **visualize** function and pass the variable **IMAGE_INFER_DIR** as an argument.\n",
    "- The visualize function displays the contents of the directory or file represented by the **IMAGE_INFER_DIR** variable."
   ]
  },
  {
   "cell_type": "code",
   "execution_count": null,
   "metadata": {
    "colab": {
     "background_save": true,
     "base_uri": "https://localhost:8080/",
     "height": 868,
     "output_embedded_package_id": "1BAe0N1YudJNonJF_F9KvbSmWXGjDBmOe"
    },
    "id": "-kKyRn_8ftuo",
    "outputId": "cf46f92a-4437-42d2-a669-fbc0d7b7adc1"
   },
   "outputs": [],
   "source": [
    "visualize(IMAGE_INFER_DIR)"
   ]
  },
  {
   "cell_type": "markdown",
   "metadata": {
    "id": "395U97i4t4Er"
   },
   "source": [
    "**Observations:**\n",
    "\n",
    " The content associated with the directory or file is displayed."
   ]
  }
 ],
 "metadata": {
  "accelerator": "GPU",
  "colab": {
   "provenance": []
  },
  "kernelspec": {
   "display_name": "Python 3 (ipykernel)",
   "language": "python",
   "name": "python3"
  },
  "language_info": {
   "codemirror_mode": {
    "name": "ipython",
    "version": 3
   },
   "file_extension": ".py",
   "mimetype": "text/x-python",
   "name": "python",
   "nbconvert_exporter": "python",
   "pygments_lexer": "ipython3",
   "version": "3.10.11"
  }
 },
 "nbformat": 4,
 "nbformat_minor": 1
}
