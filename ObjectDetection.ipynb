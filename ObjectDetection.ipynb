{
 "cells": [
  {
   "cell_type": "code",
   "execution_count": null,
   "id": "2196611e-a027-4537-a5aa-2ab9fdd2c5d6",
   "metadata": {},
   "outputs": [],
   "source": []
  },
  {
   "cell_type": "code",
   "execution_count": 4,
   "id": "98cc64c7-397e-4be4-8c08-2af18db75c33",
   "metadata": {},
   "outputs": [],
   "source": [
    "import os\n",
    "import glob as glob\n",
    "import matplotlib.pyplot as plt\n",
    "import cv2\n",
    "import requests"
   ]
  },
  {
   "cell_type": "code",
   "execution_count": 5,
   "id": "f18d93bb-2429-445f-b530-f7bc4208fe48",
   "metadata": {},
   "outputs": [],
   "source": [
    "\n",
    "import numpy as np\n",
    "import pandas as pd\n",
    "import PIL\n",
    "import tensorflow as tf\n",
    "\n",
    "from tensorflow import keras\n",
    "from tensorflow.keras import layers\n",
    "from tensorflow.keras.models import Sequential"
   ]
  },
  {
   "cell_type": "code",
   "execution_count": 6,
   "id": "9b40e913-8e82-4964-a1ac-44f85371f372",
   "metadata": {},
   "outputs": [
    {
     "data": {
      "text/plain": [
       "'/voc/work/capstoneProject'"
      ]
     },
     "execution_count": 6,
     "metadata": {},
     "output_type": "execute_result"
    }
   ],
   "source": [
    "import os\n",
    "os.listdir()\n",
    "os.getcwd()"
   ]
  },
  {
   "cell_type": "code",
   "execution_count": 30,
   "id": "5bfa0500-b4b8-40ad-85dd-544aff5aba38",
   "metadata": {},
   "outputs": [
    {
     "data": {
      "text/plain": [
       "['.ipynb_checkpoints',\n",
       " 'images',\n",
       " '10.07_Object_Detection_with_YOLO-2.ipynb',\n",
       " 'project2',\n",
       " 'Untitled.ipynb',\n",
       " 'part2',\n",
       " 'labels.csv',\n",
       " '10.07_Object_Detection_with_YOLO-3.ipynb',\n",
       " 'Detectron2_Personal_Notebook_GoogleDrive_Instance.ipynb']"
      ]
     },
     "execution_count": 30,
     "metadata": {},
     "output_type": "execute_result"
    }
   ],
   "source": [
    "os.listdir()"
   ]
  },
  {
   "cell_type": "code",
   "execution_count": 34,
   "id": "7a991fa4-cda8-4c44-9b22-f44035a3c787",
   "metadata": {},
   "outputs": [],
   "source": [
    "import pathlib\n",
    "\n",
    "data_dir = pathlib.Path(\"./images\")"
   ]
  },
  {
   "cell_type": "code",
   "execution_count": 35,
   "id": "e385cf0b-22a6-4158-bb86-f237f18da2a7",
   "metadata": {},
   "outputs": [
    {
     "data": {
      "text/plain": [
       "PosixPath('images')"
      ]
     },
     "execution_count": 35,
     "metadata": {},
     "output_type": "execute_result"
    }
   ],
   "source": [
    "data_dir"
   ]
  },
  {
   "cell_type": "code",
   "execution_count": 37,
   "id": "252c027d-2920-4bfd-a99b-a7e3a81c8f84",
   "metadata": {},
   "outputs": [
    {
     "name": "stdout",
     "output_type": "stream",
     "text": [
      "1493\n"
     ]
    }
   ],
   "source": [
    "image_count = len(list(data_dir.glob('*.jpg')))\n",
    "print(image_count)"
   ]
  },
  {
   "cell_type": "code",
   "execution_count": 38,
   "id": "af69034d-7790-46a8-99d9-35af937fc7fe",
   "metadata": {},
   "outputs": [
    {
     "name": "stdout",
     "output_type": "stream",
     "text": [
      "Found 5 files belonging to 1 classes.\n",
      "Using 4 files for training.\n"
     ]
    }
   ],
   "source": [
    "batch_size = 32\n",
    "img_height = 180\n",
    "img_width = 180\n",
    "\n",
    "\n",
    "train_ds = tf.keras.utils.image_dataset_from_directory(\n",
    "  data_dir,\n",
    "  validation_split=0.2,\n",
    "  subset=\"training\",\n",
    "  seed=123,\n",
    "  image_size=(img_height, img_width),\n",
    "  batch_size=batch_size)\n"
   ]
  },
  {
   "cell_type": "code",
   "execution_count": 40,
   "id": "02e868b5-0790-4d1e-8153-b2a996452234",
   "metadata": {},
   "outputs": [],
   "source": [
    "\n",
    "# Defining the columns to read\n",
    "usecols = [\"image_index\", \"class_label\", \"bx\", \"by\", \"bw\", \"bh\"]\n",
    "\n",
    "df = pd.read_csv(\"labels.csv\",names=usecols)\n"
   ]
  },
  {
   "cell_type": "code",
   "execution_count": 41,
   "id": "039f577a-40fd-41d2-a341-70ae02009775",
   "metadata": {},
   "outputs": [
    {
     "data": {
      "text/html": [
       "<div>\n",
       "<style scoped>\n",
       "    .dataframe tbody tr th:only-of-type {\n",
       "        vertical-align: middle;\n",
       "    }\n",
       "\n",
       "    .dataframe tbody tr th {\n",
       "        vertical-align: top;\n",
       "    }\n",
       "\n",
       "    .dataframe thead th {\n",
       "        text-align: right;\n",
       "    }\n",
       "</style>\n",
       "<table border=\"1\" class=\"dataframe\">\n",
       "  <thead>\n",
       "    <tr style=\"text-align: right;\">\n",
       "      <th></th>\n",
       "      <th>image_index</th>\n",
       "      <th>class_label</th>\n",
       "      <th>bx</th>\n",
       "      <th>by</th>\n",
       "      <th>bw</th>\n",
       "      <th>bh</th>\n",
       "    </tr>\n",
       "  </thead>\n",
       "  <tbody>\n",
       "    <tr>\n",
       "      <th>0</th>\n",
       "      <td>0</td>\n",
       "      <td>pickup_truck</td>\n",
       "      <td>213</td>\n",
       "      <td>34</td>\n",
       "      <td>255</td>\n",
       "      <td>50</td>\n",
       "    </tr>\n",
       "    <tr>\n",
       "      <th>1</th>\n",
       "      <td>0</td>\n",
       "      <td>car</td>\n",
       "      <td>194</td>\n",
       "      <td>78</td>\n",
       "      <td>273</td>\n",
       "      <td>122</td>\n",
       "    </tr>\n",
       "    <tr>\n",
       "      <th>2</th>\n",
       "      <td>0</td>\n",
       "      <td>car</td>\n",
       "      <td>155</td>\n",
       "      <td>27</td>\n",
       "      <td>183</td>\n",
       "      <td>35</td>\n",
       "    </tr>\n",
       "    <tr>\n",
       "      <th>3</th>\n",
       "      <td>0</td>\n",
       "      <td>articulated_truck</td>\n",
       "      <td>43</td>\n",
       "      <td>25</td>\n",
       "      <td>109</td>\n",
       "      <td>55</td>\n",
       "    </tr>\n",
       "    <tr>\n",
       "      <th>4</th>\n",
       "      <td>0</td>\n",
       "      <td>car</td>\n",
       "      <td>106</td>\n",
       "      <td>32</td>\n",
       "      <td>124</td>\n",
       "      <td>45</td>\n",
       "    </tr>\n",
       "  </tbody>\n",
       "</table>\n",
       "</div>"
      ],
      "text/plain": [
       "   image_index        class_label   bx  by   bw   bh\n",
       "0            0       pickup_truck  213  34  255   50\n",
       "1            0                car  194  78  273  122\n",
       "2            0                car  155  27  183   35\n",
       "3            0  articulated_truck   43  25  109   55\n",
       "4            0                car  106  32  124   45"
      ]
     },
     "execution_count": 41,
     "metadata": {},
     "output_type": "execute_result"
    }
   ],
   "source": [
    "df.head(5)"
   ]
  },
  {
   "cell_type": "code",
   "execution_count": 45,
   "id": "947d7b9c-5cb2-493a-be5e-eb3f6f532293",
   "metadata": {},
   "outputs": [
    {
     "data": {
      "text/plain": [
       "array(['pickup_truck', 'car', 'articulated_truck', 'bus',\n",
       "       'motorized_vehicle', 'work_van', 'single_unit_truck', 'pedestrian',\n",
       "       'bicycle', 'non-motorized_vehicle', 'motorcycle'], dtype=object)"
      ]
     },
     "execution_count": 45,
     "metadata": {},
     "output_type": "execute_result"
    }
   ],
   "source": [
    "df['class_label'].unique()"
   ]
  },
  {
   "cell_type": "code",
   "execution_count": 46,
   "id": "1dcc27db-08e6-424a-8681-63e37493e5fe",
   "metadata": {},
   "outputs": [],
   "source": [
    "classNum=len(df['class_label'].unique())"
   ]
  },
  {
   "cell_type": "code",
   "execution_count": 47,
   "id": "17ba34cd-c97b-4315-82b7-942db473222a",
   "metadata": {},
   "outputs": [
    {
     "data": {
      "text/plain": [
       "11"
      ]
     },
     "execution_count": 47,
     "metadata": {},
     "output_type": "execute_result"
    }
   ],
   "source": [
    "classNum"
   ]
  },
  {
   "cell_type": "code",
   "execution_count": null,
   "id": "1eca7cea-537a-4270-9c38-07ec640b6257",
   "metadata": {},
   "outputs": [],
   "source": []
  }
 ],
 "metadata": {
  "kernelspec": {
   "display_name": "Python 3 [3.10]",
   "language": "python",
   "name": "python3"
  },
  "language_info": {
   "codemirror_mode": {
    "name": "ipython",
    "version": 3
   },
   "file_extension": ".py",
   "mimetype": "text/x-python",
   "name": "python",
   "nbconvert_exporter": "python",
   "pygments_lexer": "ipython3",
   "version": "3.10.2"
  }
 },
 "nbformat": 4,
 "nbformat_minor": 5
}
